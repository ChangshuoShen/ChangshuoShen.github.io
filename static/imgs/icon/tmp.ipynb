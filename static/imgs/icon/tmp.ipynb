{
 "cells": [
  {
   "cell_type": "code",
   "execution_count": 1,
   "metadata": {},
   "outputs": [],
   "source": [
    "from PIL import Image\n",
    "\n",
    "# Open the image file\n",
    "img = Image.open('./name.png').convert('RGBA')\n",
    "pixels = img.load()\n",
    "\n",
    "# Get image dimensions\n",
    "width, height = img.size\n",
    "\n",
    "# Process each pixel\n",
    "for y in range(height):\n",
    "    for x in range(width):\n",
    "        r, g, b, a = pixels[x, y]\n",
    "        # Calculate the complement of each color channel\n",
    "        comp_r = 256 - r\n",
    "        comp_g = 256 - g\n",
    "        comp_b = 256 - b\n",
    "        # Set the new pixel value\n",
    "        pixels[x, y] = (comp_r, comp_g, comp_b, a)\n",
    "\n",
    "# Save the modified image\n",
    "img.save('./name_complement.png')\n"
   ]
  }
 ],
 "metadata": {
  "kernelspec": {
   "display_name": "base",
   "language": "python",
   "name": "python3"
  },
  "language_info": {
   "codemirror_mode": {
    "name": "ipython",
    "version": 3
   },
   "file_extension": ".py",
   "mimetype": "text/x-python",
   "name": "python",
   "nbconvert_exporter": "python",
   "pygments_lexer": "ipython3",
   "version": "3.12.9"
  }
 },
 "nbformat": 4,
 "nbformat_minor": 2
}
